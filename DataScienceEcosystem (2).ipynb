{
 "cells": [
  {
   "cell_type": "markdown",
   "id": "477f75bd-0fa2-43ee-93d4-7e134f243a39",
   "metadata": {
    "editable": true,
    "slideshow": {
     "slide_type": ""
    },
    "tags": []
   },
   "source": [
    "# Data Science Tools and Ecosystem"
   ]
  },
  {
   "cell_type": "markdown",
   "id": "a5a855c5-4e87-4382-a573-556b68a50e43",
   "metadata": {},
   "source": [
    "In this notebook, Data Science Tools and Ecosystem are summarized"
   ]
  },
  {
   "cell_type": "markdown",
   "id": "3bb24871-5a4c-40ca-9592-8935e699ea04",
   "metadata": {},
   "source": [
    "**Objectives:**\n",
    "- List Popular Languages for Data Science\n",
    "- List tools for Data Science\n",
    "- List popular libraries for Data Science"
   ]
  },
  {
   "cell_type": "markdown",
   "id": "a27b3da6-6fcb-42bc-8f5a-b7e3fa96498f",
   "metadata": {},
   "source": [
    "## Author\n",
    "Sara De La Llama"
   ]
  },
  {
   "cell_type": "markdown",
   "id": "e006cb70-f9a7-4208-8935-cec89d887dd8",
   "metadata": {},
   "source": [
    "Some of the popular languages that Data Scientists use are: \n",
    "1. Python\n",
    "2. R\n",
    "3. SQL"
   ]
  },
  {
   "cell_type": "markdown",
   "id": "45fd3c65-5b25-4a93-9e16-e3a727db718f",
   "metadata": {},
   "source": [
    "Some of the commonly used libraries used by Data Scientists include:\n",
    "1. Pandas\n",
    "2. Pytorch\n",
    "3. Numpy"
   ]
  },
  {
   "cell_type": "markdown",
   "id": "630057f0-88e2-460b-9a8a-7860cd9b4852",
   "metadata": {},
   "source": [
    "| Data Science Tools |\n",
    "| ------------------ |\n",
    "| Machine Learning |\n",
    "| Data Manipulation and Analysis |\n",
    "| Data Visualization |\n"
   ]
  },
  {
   "cell_type": "markdown",
   "id": "1d6a85d4-5653-44a8-adaf-ae847b546403",
   "metadata": {},
   "source": [
    "### Below are a few examples of evaluating arithmetic expressions in Python"
   ]
  },
  {
   "cell_type": "code",
   "execution_count": 1,
   "id": "bbbf70c9-4940-428f-92c7-193798ec0cc4",
   "metadata": {},
   "outputs": [
    {
     "data": {
      "text/plain": [
       "17"
      ]
     },
     "execution_count": 1,
     "metadata": {},
     "output_type": "execute_result"
    }
   ],
   "source": [
    "# This is a simple arithmetic expression to multiply then add integers\n",
    "(3*4)+5"
   ]
  },
  {
   "cell_type": "code",
   "execution_count": 2,
   "id": "405b0a43-cf15-416d-bba3-8d291a1d2f3f",
   "metadata": {},
   "outputs": [
    {
     "data": {
      "text/plain": [
       "3.3333333333333335"
      ]
     },
     "execution_count": 2,
     "metadata": {},
     "output_type": "execute_result"
    }
   ],
   "source": [
    "# This will convert 200 minutes to hours by diving by 60\n",
    "200/60"
   ]
  },
  {
   "cell_type": "code",
   "execution_count": null,
   "id": "33a9f622-7acf-4d23-bf4a-b8de155eed51",
   "metadata": {},
   "outputs": [],
   "source": []
  }
 ],
 "metadata": {
  "kernelspec": {
   "display_name": "Python 3 (ipykernel)",
   "language": "python",
   "name": "python3"
  },
  "language_info": {
   "codemirror_mode": {
    "name": "ipython",
    "version": 3
   },
   "file_extension": ".py",
   "mimetype": "text/x-python",
   "name": "python",
   "nbconvert_exporter": "python",
   "pygments_lexer": "ipython3",
   "version": "3.12.8"
  }
 },
 "nbformat": 4,
 "nbformat_minor": 5
}
